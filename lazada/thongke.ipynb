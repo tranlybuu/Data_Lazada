{
 "cells": [
  {
   "cell_type": "markdown",
   "metadata": {},
   "source": [
    "# **Xử lý dữ liệu**"
   ]
  },
  {
   "cell_type": "markdown",
   "metadata": {},
   "source": [
    "**Thêm thư viện**"
   ]
  },
  {
   "cell_type": "code",
   "execution_count": 1,
   "metadata": {},
   "outputs": [],
   "source": [
    "import pandas as pd\n",
    "import statistics as sta\n",
    "from scipy import stats\n",
    "import matplotlib.pyplot as plt\n",
    "import statsmodels.api as sm\n",
    "import seaborn as sns"
   ]
  },
  {
   "cell_type": "markdown",
   "metadata": {},
   "source": [
    "**Đọc dữ liệu từ file csv và in ra vài dòng đầu**"
   ]
  },
  {
   "cell_type": "code",
   "execution_count": 2,
   "metadata": {},
   "outputs": [],
   "source": [
    "csv = \"output.csv\"\n",
    "data = pd.read_csv(csv)"
   ]
  },
  {
   "cell_type": "markdown",
   "metadata": {},
   "source": [
    "**Xử lý và chuyển giá sản phẩm thành dạng số thực**"
   ]
  },
  {
   "cell_type": "code",
   "execution_count": 3,
   "metadata": {},
   "outputs": [],
   "source": [
    "price = data[\"p_price\"]\n",
    "new_price = []\n",
    "for item in price:\n",
    "    item = str(item)\n",
    "    if \".\" in item:\n",
    "        item = item.replace(\".\",\"\") # Xóa dấu chấm trong giá tiền\n",
    "    if item[-1]==\"₫\":   # Xóa kí tự ₫ trong giá tiền\n",
    "        item = item.replace(\"₫\",\"\")\n",
    "    item = item.strip()     # Loại bỏ khoảng trắng trước và sau giá tiền\n",
    "    new_price.append(int(item))   # Chuyển giá tiền về kiểu dữ liệu số nguyên\n",
    "data[\"p_price\"] = new_price"
   ]
  },
  {
   "cell_type": "markdown",
   "metadata": {},
   "source": [
    "**Lọc và phân chia các khoảng giá tiền của sản phẩm**"
   ]
  },
  {
   "cell_type": "code",
   "execution_count": 4,
   "metadata": {},
   "outputs": [],
   "source": [
    "price_cate = data[\"p_price\"]\n",
    "# Phân loại và thống kê giá trị của các sản phẩm\n",
    "list_cate = [\"Sản phẩm có giá từ 0 - dưới 10k\",\"Sản phẩm có giá từ 10k - dưới 100k\",\"Sản phẩm có giá từ 100k - dưới 1tr\",\"Sản phẩm có giá từ 1tr - 10tr\",\"Sản phẩm có giá từ trên 10tr\"]\n",
    "count_list_cate = [0, 0, 0, 0, 0]\n",
    "percent = []\n",
    "for item in price_cate:\n",
    "    if item<10000:\n",
    "        count_list_cate[0] = count_list_cate[0] +1\n",
    "    elif item<100000:\n",
    "        count_list_cate[1] = count_list_cate[1] +1\n",
    "    elif item<1000000:\n",
    "        count_list_cate[2] = count_list_cate[2] +1\n",
    "    elif item<10000000:\n",
    "        count_list_cate[3] = count_list_cate[3] +1\n",
    "    else:\n",
    "        count_list_cate[4] = count_list_cate[4] +1\n",
    "# Tính phần trăm\n",
    "for item in count_list_cate:\n",
    "    item = item/len(price_cate)*100\n",
    "    percent.append(round(item,2))"
   ]
  },
  {
   "cell_type": "markdown",
   "metadata": {},
   "source": [
    "**Hàm tạo bảng thống kê và vẽ Barplot**"
   ]
  },
  {
   "cell_type": "code",
   "execution_count": 5,
   "metadata": {},
   "outputs": [],
   "source": [
    "def stat_table(a,title_plt):\n",
    "    x = data.groupby(a)[a].count()\n",
    "    dt = pd.DataFrame(x)\n",
    "    dt.columns = ['Percent']\n",
    "    percent = []\n",
    "    for i in dt['Percent']:\n",
    "        x = (i/len(data[a]))*100\n",
    "        percent.append(round(x))\n",
    "    dt['Percent'] = percent\n",
    "    print(dt)\n",
    "    mylabels = dt.index\n",
    "    fig = plt.figure(figsize = (3, 6))\n",
    "    # Barplot\n",
    "    plt.title(title_plt, fontsize = 20, color = 'red')\n",
    "    sns.barplot(percent, mylabels, data = dt, orient = 'h')"
   ]
  },
  {
   "cell_type": "markdown",
   "metadata": {},
   "source": [
    "**Hàm vẽ khoảng giá tiền sản phẩm**\n",
    "\n",
    "Lấy lại từ stat_table và được điều chỉnh lại"
   ]
  },
  {
   "cell_type": "code",
   "execution_count": 6,
   "metadata": {},
   "outputs": [],
   "source": [
    "def khoang_gia_tien_san_pham(percent, list_cate):\n",
    "    price_df = pd.Series(percent, index=list_cate) # Tạo dataframe với 2 cột là tên danh mục và phần trăm các khoảng tiền\n",
    "    print(price_df)\n",
    "    mylabels = price_df.index\n",
    "    fig = plt.figure(figsize = (4, 4))\n",
    "    plt.title('Các khoảng giá tiền của các sản phẩm', fontsize = 20, color = 'red')\n",
    "    sns.barplot(price_df, mylabels, orient = 'h')"
   ]
  },
  {
   "cell_type": "markdown",
   "metadata": {},
   "source": [
    "# **Kết quả thống kê**"
   ]
  },
  {
   "cell_type": "markdown",
   "metadata": {},
   "source": [
    "**Tổng quan về file csv**"
   ]
  },
  {
   "cell_type": "code",
   "execution_count": 7,
   "metadata": {},
   "outputs": [
    {
     "data": {
      "text/html": [
       "<div>\n",
       "<style scoped>\n",
       "    .dataframe tbody tr th:only-of-type {\n",
       "        vertical-align: middle;\n",
       "    }\n",
       "\n",
       "    .dataframe tbody tr th {\n",
       "        vertical-align: top;\n",
       "    }\n",
       "\n",
       "    .dataframe thead th {\n",
       "        text-align: right;\n",
       "    }\n",
       "</style>\n",
       "<table border=\"1\" class=\"dataframe\">\n",
       "  <thead>\n",
       "    <tr style=\"text-align: right;\">\n",
       "      <th></th>\n",
       "      <th>p_brand</th>\n",
       "      <th>p_cate</th>\n",
       "      <th>p_image</th>\n",
       "      <th>p_mall</th>\n",
       "      <th>p_name</th>\n",
       "      <th>p_number_reviews</th>\n",
       "      <th>p_price</th>\n",
       "      <th>p_rate1star</th>\n",
       "      <th>p_rate2star</th>\n",
       "      <th>p_rate3star</th>\n",
       "      <th>p_rate4star</th>\n",
       "      <th>p_rate5star</th>\n",
       "      <th>p_rating</th>\n",
       "      <th>s_name</th>\n",
       "      <th>s_rating</th>\n",
       "      <th>s_response_rate</th>\n",
       "      <th>s_ship_ontime</th>\n",
       "    </tr>\n",
       "  </thead>\n",
       "  <tbody>\n",
       "    <tr>\n",
       "      <th>0</th>\n",
       "      <td>Dell</td>\n",
       "      <td>Máy vi tính &amp; Laptop</td>\n",
       "      <td>//vn-live-05.slatic.net/p/ab973a529b50491bb63a...</td>\n",
       "      <td>Mall</td>\n",
       "      <td>Laptop Dell Inspiron 7400 14.5 inches IPS QHD ...</td>\n",
       "      <td>Không có đánh giá</td>\n",
       "      <td>31490000</td>\n",
       "      <td>0.0</td>\n",
       "      <td>0.0</td>\n",
       "      <td>0.0</td>\n",
       "      <td>0.0</td>\n",
       "      <td>0.0</td>\n",
       "      <td>0.0</td>\n",
       "      <td>DELL Official Retail Store</td>\n",
       "      <td>88%</td>\n",
       "      <td>100%</td>\n",
       "      <td>100%</td>\n",
       "    </tr>\n",
       "    <tr>\n",
       "      <th>1</th>\n",
       "      <td>HP</td>\n",
       "      <td>Máy vi tính &amp; Laptop</td>\n",
       "      <td>//vn-live-05.slatic.net/p/0fc9119358dc21cb9dcd...</td>\n",
       "      <td>Mall</td>\n",
       "      <td>Laptop HP ProBook 450 G8 2H0Y1PA (Core i7-1165...</td>\n",
       "      <td>Không có đánh giá</td>\n",
       "      <td>31490000</td>\n",
       "      <td>0.0</td>\n",
       "      <td>0.0</td>\n",
       "      <td>0.0</td>\n",
       "      <td>0.0</td>\n",
       "      <td>0.0</td>\n",
       "      <td>0.0</td>\n",
       "      <td>An Phát HP</td>\n",
       "      <td>94%</td>\n",
       "      <td>89%</td>\n",
       "      <td>100%</td>\n",
       "    </tr>\n",
       "    <tr>\n",
       "      <th>2</th>\n",
       "      <td>HP</td>\n",
       "      <td>Máy vi tính &amp; Laptop</td>\n",
       "      <td>//vn-live-05.slatic.net/p/1063855536ce9dfae5dc...</td>\n",
       "      <td>Mall</td>\n",
       "      <td>Laptop HP 14s-fq1080AU 4K0Z7PA (Ryzen 3-5300U ...</td>\n",
       "      <td>1 đánh giá</td>\n",
       "      <td>12390000</td>\n",
       "      <td>0.0</td>\n",
       "      <td>0.0</td>\n",
       "      <td>0.0</td>\n",
       "      <td>0.0</td>\n",
       "      <td>1.0</td>\n",
       "      <td>5.0</td>\n",
       "      <td>An Phát HP</td>\n",
       "      <td>94%</td>\n",
       "      <td>89%</td>\n",
       "      <td>100%</td>\n",
       "    </tr>\n",
       "    <tr>\n",
       "      <th>3</th>\n",
       "      <td>Dell</td>\n",
       "      <td>Máy vi tính &amp; Laptop</td>\n",
       "      <td>//vn-live-05.slatic.net/p/756f7f7aeb632324816e...</td>\n",
       "      <td>Non-Mall</td>\n",
       "      <td>Brand New Dell Alienware M17 R4 - 17.3\" 4K UHD...</td>\n",
       "      <td>Không có đánh giá</td>\n",
       "      <td>23000000</td>\n",
       "      <td>0.0</td>\n",
       "      <td>0.0</td>\n",
       "      <td>0.0</td>\n",
       "      <td>0.0</td>\n",
       "      <td>0.0</td>\n",
       "      <td>0.0</td>\n",
       "      <td>GADGETSHUB PLC</td>\n",
       "      <td>NaN</td>\n",
       "      <td>66%</td>\n",
       "      <td>100%</td>\n",
       "    </tr>\n",
       "    <tr>\n",
       "      <th>4</th>\n",
       "      <td>OnePlus</td>\n",
       "      <td>Máy vi tính &amp; Laptop</td>\n",
       "      <td>//vn-live-05.slatic.net/p/ec69d1bd94b9e41f3f37...</td>\n",
       "      <td>Non-Mall</td>\n",
       "      <td>Brand New OnePlus 9 Pro - 256GB - Morning Mist...</td>\n",
       "      <td>Không có đánh giá</td>\n",
       "      <td>8000000</td>\n",
       "      <td>0.0</td>\n",
       "      <td>0.0</td>\n",
       "      <td>0.0</td>\n",
       "      <td>0.0</td>\n",
       "      <td>0.0</td>\n",
       "      <td>0.0</td>\n",
       "      <td>GADGETSHUB PLC</td>\n",
       "      <td>NaN</td>\n",
       "      <td>66%</td>\n",
       "      <td>100%</td>\n",
       "    </tr>\n",
       "  </tbody>\n",
       "</table>\n",
       "</div>"
      ],
      "text/plain": [
       "   p_brand                p_cate  \\\n",
       "0     Dell  Máy vi tính & Laptop   \n",
       "1       HP  Máy vi tính & Laptop   \n",
       "2       HP  Máy vi tính & Laptop   \n",
       "3     Dell  Máy vi tính & Laptop   \n",
       "4  OnePlus  Máy vi tính & Laptop   \n",
       "\n",
       "                                             p_image    p_mall  \\\n",
       "0  //vn-live-05.slatic.net/p/ab973a529b50491bb63a...      Mall   \n",
       "1  //vn-live-05.slatic.net/p/0fc9119358dc21cb9dcd...      Mall   \n",
       "2  //vn-live-05.slatic.net/p/1063855536ce9dfae5dc...      Mall   \n",
       "3  //vn-live-05.slatic.net/p/756f7f7aeb632324816e...  Non-Mall   \n",
       "4  //vn-live-05.slatic.net/p/ec69d1bd94b9e41f3f37...  Non-Mall   \n",
       "\n",
       "                                              p_name   p_number_reviews  \\\n",
       "0  Laptop Dell Inspiron 7400 14.5 inches IPS QHD ...  Không có đánh giá   \n",
       "1  Laptop HP ProBook 450 G8 2H0Y1PA (Core i7-1165...  Không có đánh giá   \n",
       "2  Laptop HP 14s-fq1080AU 4K0Z7PA (Ryzen 3-5300U ...         1 đánh giá   \n",
       "3  Brand New Dell Alienware M17 R4 - 17.3\" 4K UHD...  Không có đánh giá   \n",
       "4  Brand New OnePlus 9 Pro - 256GB - Morning Mist...  Không có đánh giá   \n",
       "\n",
       "    p_price  p_rate1star  p_rate2star  p_rate3star  p_rate4star  p_rate5star  \\\n",
       "0  31490000          0.0          0.0          0.0          0.0          0.0   \n",
       "1  31490000          0.0          0.0          0.0          0.0          0.0   \n",
       "2  12390000          0.0          0.0          0.0          0.0          1.0   \n",
       "3  23000000          0.0          0.0          0.0          0.0          0.0   \n",
       "4   8000000          0.0          0.0          0.0          0.0          0.0   \n",
       "\n",
       "   p_rating                      s_name s_rating s_response_rate s_ship_ontime  \n",
       "0       0.0  DELL Official Retail Store      88%            100%          100%  \n",
       "1       0.0                  An Phát HP      94%             89%          100%  \n",
       "2       5.0                  An Phát HP      94%             89%          100%  \n",
       "3       0.0              GADGETSHUB PLC      NaN             66%          100%  \n",
       "4       0.0              GADGETSHUB PLC      NaN             66%          100%  "
      ]
     },
     "execution_count": 7,
     "metadata": {},
     "output_type": "execute_result"
    }
   ],
   "source": [
    "data.head(5)"
   ]
  },
  {
   "cell_type": "code",
   "execution_count": 8,
   "metadata": {},
   "outputs": [
    {
     "name": "stdout",
     "output_type": "stream",
     "text": [
      "Bao gồm 17 cột:\n",
      "p_brand\n",
      "p_cate\n",
      "p_image\n",
      "p_mall\n",
      "p_name\n",
      "p_number_reviews\n",
      "p_price\n",
      "p_rate1star\n",
      "p_rate2star\n",
      "p_rate3star\n",
      "p_rate4star\n",
      "p_rate5star\n",
      "p_rating\n",
      "s_name\n",
      "s_rating\n",
      "s_response_rate\n",
      "s_ship_ontime\n"
     ]
    }
   ],
   "source": [
    "print(f\"Bao gồm {len(data.columns)} cột:\")\n",
    "for i in data.columns:\n",
    "    print(i)"
   ]
  },
  {
   "cell_type": "code",
   "execution_count": 9,
   "metadata": {},
   "outputs": [
    {
     "name": "stdout",
     "output_type": "stream",
     "text": [
      "                          Percent\n",
      "p_cate                           \n",
      "Electronics Accessories         8\n",
      "Màn hình & Máy in               9\n",
      "Máy vi tính & Laptop           19\n",
      "Máy ảnh & Máy bay camera       34\n",
      "Thiết bị thông minh            21\n",
      "Âm thanh                        9\n"
     ]
    },
    {
     "name": "stderr",
     "output_type": "stream",
     "text": [
      "C:\\Users\\lybuu\\AppData\\Local\\Programs\\Python\\Python38-32\\lib\\site-packages\\seaborn\\_decorators.py:36: FutureWarning: Pass the following variables as keyword args: x, y. From version 0.12, the only valid positional argument will be `data`, and passing other arguments without an explicit keyword will result in an error or misinterpretation.\n",
      "  warnings.warn(\n"
     ]
    },
    {
     "data": {
      "image/png": "[encoded data removed]",
      "text/plain": [
       "<Figure size 216x432 with 1 Axes>"
      ]
     },
     "metadata": {
      "needs_background": "light"
     },
     "output_type": "display_data"
    }
   ],
   "source": [
    "stat_table(\"p_cate\", \"Danh mục các sản phẩm\")"
   ]
  },
  {
   "cell_type": "code",
   "execution_count": 10,
   "metadata": {},
   "outputs": [
    {
     "name": "stdout",
     "output_type": "stream",
     "text": [
      "Sản phẩm có giá từ 0 - dưới 10k        6.76\n",
      "Sản phẩm có giá từ 10k - dưới 100k    23.89\n",
      "Sản phẩm có giá từ 100k - dưới 1tr    42.28\n",
      "Sản phẩm có giá từ 1tr - 10tr         18.63\n",
      "Sản phẩm có giá từ trên 10tr           8.45\n",
      "dtype: float64\n"
     ]
    },
    {
     "name": "stderr",
     "output_type": "stream",
     "text": [
      "C:\\Users\\lybuu\\AppData\\Local\\Programs\\Python\\Python38-32\\lib\\site-packages\\seaborn\\_decorators.py:36: FutureWarning: Pass the following variables as keyword args: x, y. From version 0.12, the only valid positional argument will be `data`, and passing other arguments without an explicit keyword will result in an error or misinterpretation.\n",
      "  warnings.warn(\n"
     ]
    },
    {
     "data": {
      "image/png": "[encoded data removed]",
      "text/plain": [
       "<Figure size 288x288 with 1 Axes>"
      ]
     },
     "metadata": {
      "needs_background": "light"
     },
     "output_type": "display_data"
    }
   ],
   "source": [
    "khoang_gia_tien_san_pham(percent, list_cate)"
   ]
  },
  {
   "cell_type": "code",
   "execution_count": 11,
   "metadata": {},
   "outputs": [
    {
     "name": "stdout",
     "output_type": "stream",
     "text": [
      "          Percent\n",
      "p_mall           \n",
      "Mall            8\n",
      "Non-Mall       92\n"
     ]
    },
    {
     "name": "stderr",
     "output_type": "stream",
     "text": [
      "C:\\Users\\lybuu\\AppData\\Local\\Programs\\Python\\Python38-32\\lib\\site-packages\\seaborn\\_decorators.py:36: FutureWarning: Pass the following variables as keyword args: x, y. From version 0.12, the only valid positional argument will be `data`, and passing other arguments without an explicit keyword will result in an error or misinterpretation.\n",
      "  warnings.warn(\n"
     ]
    },
    {
     "data": {
      "image/png": "[encoded data removed]",
      "text/plain": [
       "<Figure size 216x432 with 1 Axes>"
      ]
     },
     "metadata": {
      "needs_background": "light"
     },
     "output_type": "display_data"
    }
   ],
   "source": [
    "stat_table(\"p_mall\",\"Sản phẩm chính hãng và không chính hãng\")"
   ]
  },
  {
   "cell_type": "code",
   "execution_count": 17,
   "metadata": {},
   "outputs": [
    {
     "name": "stdout",
     "output_type": "stream",
     "text": [
      "Số lượng thương hiệu: 2131\n",
      "<class 'pandas.core.series.Series'>\n",
      "          Percent\n",
      "p_brand          \n",
      "4Tech           0\n",
      "ASUS            0\n",
      "Apple           1\n",
      "BASEUS          0\n",
      "Beego           0\n",
      "...           ...\n",
      "wonlex          0\n",
      "xprinter        0\n",
      "yoosee          3\n",
      "zeblaze         0\n",
      "zmi             0\n",
      "\n",
      "[107 rows x 1 columns]\n"
     ]
    },
    {
     "name": "stderr",
     "output_type": "stream",
     "text": [
      "C:\\Users\\lybuu\\AppData\\Local\\Programs\\Python\\Python38-32\\lib\\site-packages\\seaborn\\_decorators.py:36: FutureWarning: Pass the following variables as keyword args: x, y. From version 0.12, the only valid positional argument will be `data`, and passing other arguments without an explicit keyword will result in an error or misinterpretation.\n",
      "  warnings.warn(\n"
     ]
    },
    {
     "data": {
      "image/png": "[encoded data removed]",
      "text/plain": [
       "<Figure size 216x432 with 1 Axes>"
      ]
     },
     "metadata": {
      "needs_background": "light"
     },
     "output_type": "display_data"
    }
   ],
   "source": [
    "total_brand = data[\"p_brand\"]\n",
    "print(f\"Số lượng thương hiệu: {len(total_brand)}\")\n",
    "stat_table(\"p_brand\",\"Thương hiệu các sản phẩm\")"
   ]
  }
 ],
 "metadata": {
  "interpreter": {
   "hash": "1b1ecaee4775a679fda8e84dccd942affe648e7556f06b53476e04ae969ed1cd"
  },
  "kernelspec": {
   "display_name": "Python 3.8.5 32-bit",
   "name": "python3"
  },
  "language_info": {
   "codemirror_mode": {
    "name": "ipython",
    "version": 3
   },
   "file_extension": ".py",
   "mimetype": "text/x-python",
   "name": "python",
   "nbconvert_exporter": "python",
   "pygments_lexer": "ipython3",
   "version": "3.8.5"
  },
  "orig_nbformat": 4
 },
 "nbformat": 4,
 "nbformat_minor": 2
}
