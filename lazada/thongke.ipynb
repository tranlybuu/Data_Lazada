{
 "cells": [
  {
   "cell_type": "markdown",
   "metadata": {},
   "source": [
    "**Thêm thư viện**"
   ]
  },
  {
   "cell_type": "code",
   "execution_count": 23,
   "metadata": {},
   "outputs": [],
   "source": [
    "import pandas as pd\n",
    "import statistics as sta\n",
    "from scipy import stats\n",
    "import matplotlib.pyplot as plt\n",
    "import statsmodels.api as sm\n",
    "import seaborn as sns"
   ]
  },
  {
   "cell_type": "markdown",
   "metadata": {},
   "source": [
    "**Tên file csv**"
   ]
  },
  {
   "cell_type": "code",
   "execution_count": 24,
   "metadata": {},
   "outputs": [],
   "source": [
    "\"\"\"\n",
    "csv = \"output1.csv\"\n",
    "data = pd.read_csv(csv)\n",
    "\"\"\"\n",
    "df1 = pd.read_csv(\"output.csv\")\n",
    "df2 = pd.read_csv(\"output1.csv\")\n",
    "data = df1.append(df2, sort=True)\n"
   ]
  },
  {
   "cell_type": "markdown",
   "metadata": {},
   "source": [
    "# **Xử lý dữ liệu**"
   ]
  },
  {
   "cell_type": "markdown",
   "metadata": {},
   "source": [
    "**Xử lý và chuyển giá sản phẩm thành dạng số thực**"
   ]
  },
  {
   "cell_type": "code",
   "execution_count": 25,
   "metadata": {},
   "outputs": [],
   "source": [
    "price = data[\"p_price\"]\n",
    "new_price = []\n",
    "for item in price:\n",
    "    item = str(item)\n",
    "    if \".\" in item:\n",
    "        item = item.replace(\".\",\"\") # Xóa dấu chấm trong giá tiền\n",
    "    if item[-1]==\"₫\":   # Xóa kí tự ₫ trong giá tiền\n",
    "        item = item.replace(\"₫\",\"\")\n",
    "    item = item.strip()     # Loại bỏ khoảng trắng trước và sau giá tiền\n",
    "    new_price.append(int(item))   # Chuyển giá tiền về kiểu dữ liệu số nguyên\n",
    "data[\"p_price\"] = new_price"
   ]
  },
  {
   "cell_type": "markdown",
   "metadata": {},
   "source": [
    "**Hàm tạo bảng thống kê và vẽ Barplot**\n",
    "\n",
    "Dành cho những cột dữ liệu thông thường và không cần chỉnh sửa gì thêm"
   ]
  },
  {
   "cell_type": "code",
   "execution_count": 26,
   "metadata": {},
   "outputs": [],
   "source": [
    "def stat_table(a,title_plt=\"\"):\n",
    "    x = data.groupby(a)[a].count()\n",
    "    dt = pd.DataFrame(x)\n",
    "    dt.columns = ['quantity']\n",
    "    count = []\n",
    "    for i in dt['quantity']:\n",
    "        x = i\n",
    "        count.append(round(x))\n",
    "    dt['quantity'] = count\n",
    "    print(dt)\n",
    "    mylabels = dt.index\n",
    "    plt.figure(figsize = (10, 4))\n",
    "    # Barplot\n",
    "    plt.title(title_plt, fontsize = 20, color = 'red')\n",
    "    sns.barplot(count, mylabels, data = dt, orient = 'h')"
   ]
  },
  {
   "cell_type": "markdown",
   "metadata": {},
   "source": [
    "**Hàm vẽ khoảng giá tiền sản phẩm**\n",
    "\n",
    "Lấy lại từ stat_table và được điều chỉnh lại"
   ]
  },
  {
   "cell_type": "code",
   "execution_count": 27,
   "metadata": {},
   "outputs": [],
   "source": [
    "# Lọc và phân chia các khoảng giá tiền của sản phẩm\n",
    "price_cate = data[\"p_price\"]\n",
    "# Phân loại và thống kê giá trị của các sản phẩm\n",
    "list_cate = [\"Sản phẩm có giá từ 0 - dưới 10k\",\"Sản phẩm có giá từ 10k - dưới 100k\",\"Sản phẩm có giá từ 100k - dưới 1tr\",\"Sản phẩm có giá từ 1tr - 10tr\",\"Sản phẩm có giá từ trên 10tr\"]\n",
    "count_list_cate = [0, 0, 0, 0, 0]\n",
    "count_price_cate = []\n",
    "for item in price_cate:\n",
    "    if item<10000:\n",
    "        count_list_cate[0] = count_list_cate[0] +1\n",
    "    elif item<100000:\n",
    "        count_list_cate[1] = count_list_cate[1] +1\n",
    "    elif item<1000000:\n",
    "        count_list_cate[2] = count_list_cate[2] +1\n",
    "    elif item<10000000:\n",
    "        count_list_cate[3] = count_list_cate[3] +1\n",
    "    else:\n",
    "        count_list_cate[4] = count_list_cate[4] +1\n",
    "# Tính phần trăm\n",
    "for item in count_list_cate:\n",
    "    count_price_cate.append(round(item))\n",
    "    \n",
    "def barplot_khoang_gia_tien_san_pham(count, list_cate):\n",
    "    price_df = pd.Series(count, index=list_cate) # Tạo dataframe với 2 cột là tên danh mục và phần trăm các khoảng tiền\n",
    "    print(price_df)\n",
    "    mylabels = price_df.index\n",
    "    plt.figure(figsize = (10, 4))\n",
    "    plt.title('Các khoảng giá tiền của các sản phẩm', fontsize = 20, color = 'red')\n",
    "    sns.barplot(price_df, mylabels, orient = 'h')"
   ]
  },
  {
   "cell_type": "markdown",
   "metadata": {},
   "source": [
    "**Hàm vẽ biểu đồ thống kê các thương hiệu sản phẩm**\n",
    "\n",
    "Lấy lại từ stat_table và được điều chỉnh lại"
   ]
  },
  {
   "cell_type": "code",
   "execution_count": 28,
   "metadata": {},
   "outputs": [],
   "source": [
    "def barplot_cac_thuong_hieu_san_pham(column,title=\"\"):\n",
    "    data_check = data[column]       # Lấy cột dữ liệu từ dataframe\n",
    "    brand_list_check = []           # Danh sách chứa tên các thương hiệu chưa qua xử lý\n",
    "    quantity_list_check = []        # Danh sách chứa số lượng của mỗi thương hiệu chưa qua xử lý\n",
    "\n",
    "    for item in data_check:                                                 #####\n",
    "        if item not in brand_list_check:                                        #\n",
    "            brand_list_check.append(item)                                       #   \n",
    "            quantity_list_check.append(1)                                       #\n",
    "        else:                                                                   #\n",
    "            index = brand_list_check.index(item)                                #\n",
    "            quantity_list_check[index] = quantity_list_check[index]+1       #####\n",
    "\n",
    "    quantity = []       # Danh sách chứa tên các thương hiệu đã qua xử lý\n",
    "    brand = []          # Danh sách chứa số lượng của mỗi thương hiệu đã qua xử lý\n",
    "\n",
    "    for item in range(len(quantity_list_check)):                                                                \n",
    "        count = quantity_list_check[item]\n",
    "        name_brand = brand_list_check[item]\n",
    "        if count<15:                                    # Thương hiệu có ít hơn 15 sản phẩm     #####   Lọc và xử lý\n",
    "            name_brand = \"Các thương hiệu nhỏ\"          #  được xem là thương hiệu nhỏ              #    các thương hiệu\n",
    "        if name_brand == \"No Brand\":            # Các sản phẩm không có thương hiệu                 #   Tránh bị quá nhiều\n",
    "            name_brand = \"Không có thương hiệu\"                                                 #####    thương hiệu lúc vẽ barplot\n",
    "\n",
    "        if name_brand not in brand:                         #####\n",
    "            brand.append(name_brand)                            #   \n",
    "            quantity.append(count)                              #   Đếm số lượng sản phẩm\n",
    "        else:                                                   #   của tất cả các thương hiệu\n",
    "            index = brand.index(name_brand)                     #\n",
    "            quantity[index] = quantity[index] + count       #####\n",
    "\n",
    "    brand_df = pd.Series(quantity, index=brand) # Tạo dataframe với 2 cột là tên thương hiệu và số lượng sản phẩm\n",
    "    brand_df = brand_df.sort_values()       # Sắp xếp lại dataframe theo thứ tự tăng dần dựa vào số lượng sản phẩm\n",
    "    print(brand_df)\n",
    "    mylabels = brand_df.index\n",
    "    plt.figure(figsize = (10, 4))\n",
    "    plt.title(title, fontsize = 20, color = 'red')\n",
    "    sns.barplot(brand_df, mylabels, orient = 'h')"
   ]
  },
  {
   "cell_type": "markdown",
   "metadata": {},
   "source": [
    "# **Kết quả thống kê**"
   ]
  },
  {
   "cell_type": "markdown",
   "metadata": {},
   "source": [
    "**Tổng quan về file csv**"
   ]
  },
  {
   "cell_type": "code",
   "execution_count": 29,
   "metadata": {},
   "outputs": [
    {
     "name": "stdout",
     "output_type": "stream",
     "text": [
      "Dữ liệu thu thập được từ Lazada có 2490 sản phẩm\n",
      "Mỗi sản phẩm có 17 cột chứa dữ liệu\n"
     ]
    },
    {
     "data": {
      "text/html": [
       "<div>\n",
       "<style scoped>\n",
       "    .dataframe tbody tr th:only-of-type {\n",
       "        vertical-align: middle;\n",
       "    }\n",
       "\n",
       "    .dataframe tbody tr th {\n",
       "        vertical-align: top;\n",
       "    }\n",
       "\n",
       "    .dataframe thead th {\n",
       "        text-align: right;\n",
       "    }\n",
       "</style>\n",
       "<table border=\"1\" class=\"dataframe\">\n",
       "  <thead>\n",
       "    <tr style=\"text-align: right;\">\n",
       "      <th></th>\n",
       "      <th>p_brand</th>\n",
       "      <th>p_cate</th>\n",
       "      <th>p_image</th>\n",
       "      <th>p_mall</th>\n",
       "      <th>p_name</th>\n",
       "      <th>p_number_reviews</th>\n",
       "      <th>p_price</th>\n",
       "      <th>p_rate1star</th>\n",
       "      <th>p_rate2star</th>\n",
       "      <th>p_rate3star</th>\n",
       "      <th>p_rate4star</th>\n",
       "      <th>p_rate5star</th>\n",
       "      <th>p_rating</th>\n",
       "      <th>s_name</th>\n",
       "      <th>s_rating</th>\n",
       "      <th>s_response_rate</th>\n",
       "      <th>s_ship_ontime</th>\n",
       "    </tr>\n",
       "  </thead>\n",
       "  <tbody>\n",
       "    <tr>\n",
       "      <th>0</th>\n",
       "      <td>Dell</td>\n",
       "      <td>Máy vi tính &amp; Laptop</td>\n",
       "      <td>//vn-live-05.slatic.net/p/ab973a529b50491bb63a...</td>\n",
       "      <td>Mall</td>\n",
       "      <td>Laptop Dell Inspiron 7400 14.5 inches IPS QHD ...</td>\n",
       "      <td>Không có đánh giá</td>\n",
       "      <td>31490000</td>\n",
       "      <td>0.0</td>\n",
       "      <td>0.0</td>\n",
       "      <td>0.0</td>\n",
       "      <td>0.0</td>\n",
       "      <td>0.0</td>\n",
       "      <td>0.0</td>\n",
       "      <td>DELL Official Retail Store</td>\n",
       "      <td>88%</td>\n",
       "      <td>100%</td>\n",
       "      <td>100%</td>\n",
       "    </tr>\n",
       "    <tr>\n",
       "      <th>1</th>\n",
       "      <td>HP</td>\n",
       "      <td>Máy vi tính &amp; Laptop</td>\n",
       "      <td>//vn-live-05.slatic.net/p/0fc9119358dc21cb9dcd...</td>\n",
       "      <td>Mall</td>\n",
       "      <td>Laptop HP ProBook 450 G8 2H0Y1PA (Core i7-1165...</td>\n",
       "      <td>Không có đánh giá</td>\n",
       "      <td>31490000</td>\n",
       "      <td>0.0</td>\n",
       "      <td>0.0</td>\n",
       "      <td>0.0</td>\n",
       "      <td>0.0</td>\n",
       "      <td>0.0</td>\n",
       "      <td>0.0</td>\n",
       "      <td>An Phát HP</td>\n",
       "      <td>94%</td>\n",
       "      <td>89%</td>\n",
       "      <td>100%</td>\n",
       "    </tr>\n",
       "  </tbody>\n",
       "</table>\n",
       "</div>"
      ],
      "text/plain": [
       "  p_brand                p_cate  \\\n",
       "0    Dell  Máy vi tính & Laptop   \n",
       "1      HP  Máy vi tính & Laptop   \n",
       "\n",
       "                                             p_image p_mall  \\\n",
       "0  //vn-live-05.slatic.net/p/ab973a529b50491bb63a...   Mall   \n",
       "1  //vn-live-05.slatic.net/p/0fc9119358dc21cb9dcd...   Mall   \n",
       "\n",
       "                                              p_name   p_number_reviews  \\\n",
       "0  Laptop Dell Inspiron 7400 14.5 inches IPS QHD ...  Không có đánh giá   \n",
       "1  Laptop HP ProBook 450 G8 2H0Y1PA (Core i7-1165...  Không có đánh giá   \n",
       "\n",
       "    p_price  p_rate1star  p_rate2star  p_rate3star  p_rate4star  p_rate5star  \\\n",
       "0  31490000          0.0          0.0          0.0          0.0          0.0   \n",
       "1  31490000          0.0          0.0          0.0          0.0          0.0   \n",
       "\n",
       "   p_rating                      s_name s_rating s_response_rate s_ship_ontime  \n",
       "0       0.0  DELL Official Retail Store      88%            100%          100%  \n",
       "1       0.0                  An Phát HP      94%             89%          100%  "
      ]
     },
     "execution_count": 29,
     "metadata": {},
     "output_type": "execute_result"
    }
   ],
   "source": [
    "print(f\"Dữ liệu thu thập được từ Lazada có {len(price_cate)} sản phẩm\")\n",
    "print(f\"Mỗi sản phẩm có {len(data.columns)} cột chứa dữ liệu\")\n",
    "data.head(2)"
   ]
  },
  {
   "cell_type": "code",
   "execution_count": 30,
   "metadata": {},
   "outputs": [
    {
     "name": "stdout",
     "output_type": "stream",
     "text": [
      "                              quantity\n",
      "p_cate                                \n",
      "Electronics Accessories            175\n",
      "Giày dép & Quần áo nữ              120\n",
      "Màn hình & Máy in                  240\n",
      "Máy vi tính & Laptop               399\n",
      "Máy ảnh & Máy bay camera           718\n",
      "TV & Video                          40\n",
      "Thiết bị thông minh                440\n",
      "Túi xách và Vali túi du lịch        79\n",
      "Âm thanh                           199\n",
      "Điện thoại & Máy tính bảng          80\n"
     ]
    },
    {
     "name": "stderr",
     "output_type": "stream",
     "text": [
      "C:\\Users\\lybuu\\AppData\\Local\\Programs\\Python\\Python38-32\\lib\\site-packages\\seaborn\\_decorators.py:36: FutureWarning: Pass the following variables as keyword args: x, y. From version 0.12, the only valid positional argument will be `data`, and passing other arguments without an explicit keyword will result in an error or misinterpretation.\n",
      "  warnings.warn(\n"
     ]
    },
    {
     "data": {
      "image/png": "[encoded data removed]",
      "text/plain": [
       "<Figure size 720x288 with 1 Axes>"
      ]
     },
     "metadata": {
      "needs_background": "light"
     },
     "output_type": "display_data"
    }
   ],
   "source": [
    "stat_table(\"p_cate\", \"Danh mục các sản phẩm\")"
   ]
  },
  {
   "cell_type": "code",
   "execution_count": 31,
   "metadata": {},
   "outputs": [
    {
     "name": "stdout",
     "output_type": "stream",
     "text": [
      "Sản phẩm có giá từ 0 - dưới 10k        147\n",
      "Sản phẩm có giá từ 10k - dưới 100k     658\n",
      "Sản phẩm có giá từ 100k - dưới 1tr    1000\n",
      "Sản phẩm có giá từ 1tr - 10tr          489\n",
      "Sản phẩm có giá từ trên 10tr           196\n",
      "dtype: int64\n"
     ]
    },
    {
     "name": "stderr",
     "output_type": "stream",
     "text": [
      "C:\\Users\\lybuu\\AppData\\Local\\Programs\\Python\\Python38-32\\lib\\site-packages\\seaborn\\_decorators.py:36: FutureWarning: Pass the following variables as keyword args: x, y. From version 0.12, the only valid positional argument will be `data`, and passing other arguments without an explicit keyword will result in an error or misinterpretation.\n",
      "  warnings.warn(\n"
     ]
    },
    {
     "data": {
      "image/png": "[encoded data removed]",
      "text/plain": [
       "<Figure size 720x288 with 1 Axes>"
      ]
     },
     "metadata": {
      "needs_background": "light"
     },
     "output_type": "display_data"
    }
   ],
   "source": [
    "barplot_khoang_gia_tien_san_pham(count_price_cate, list_cate)"
   ]
  },
  {
   "cell_type": "code",
   "execution_count": 32,
   "metadata": {},
   "outputs": [
    {
     "name": "stdout",
     "output_type": "stream",
     "text": [
      "          quantity\n",
      "p_mall            \n",
      "Mall           262\n",
      "Non-Mall      2228\n"
     ]
    },
    {
     "name": "stderr",
     "output_type": "stream",
     "text": [
      "C:\\Users\\lybuu\\AppData\\Local\\Programs\\Python\\Python38-32\\lib\\site-packages\\seaborn\\_decorators.py:36: FutureWarning: Pass the following variables as keyword args: x, y. From version 0.12, the only valid positional argument will be `data`, and passing other arguments without an explicit keyword will result in an error or misinterpretation.\n",
      "  warnings.warn(\n"
     ]
    },
    {
     "data": {
      "image/png": "[encoded data removed]",
      "text/plain": [
       "<Figure size 720x288 with 1 Axes>"
      ]
     },
     "metadata": {
      "needs_background": "light"
     },
     "output_type": "display_data"
    }
   ],
   "source": [
    "stat_table(\"p_mall\",\"Sản phẩm chính hãng và không chính hãng\")"
   ]
  },
  {
   "cell_type": "code",
   "execution_count": 33,
   "metadata": {},
   "outputs": [
    {
     "name": "stdout",
     "output_type": "stream",
     "text": [
      "Số lượng thương hiệu: 2490\n",
      "MAC                       15\n",
      "Epson                     16\n",
      "TP-Link                   17\n",
      "amazfit                   19\n",
      "GoPro                     22\n",
      "Microsoft                 22\n",
      "IMOU                      32\n",
      "Apple                     34\n",
      "Xiaomi                    39\n",
      "Samsung                   40\n",
      "HP                        48\n",
      "yoosee                    65\n",
      "Ezviz                     81\n",
      "Dell                     107\n",
      "Các thương hiệu nhỏ      425\n",
      "OEM                      426\n",
      "Không có thương hiệu    1082\n",
      "dtype: int64\n"
     ]
    },
    {
     "name": "stderr",
     "output_type": "stream",
     "text": [
      "C:\\Users\\lybuu\\AppData\\Local\\Programs\\Python\\Python38-32\\lib\\site-packages\\seaborn\\_decorators.py:36: FutureWarning: Pass the following variables as keyword args: x, y. From version 0.12, the only valid positional argument will be `data`, and passing other arguments without an explicit keyword will result in an error or misinterpretation.\n",
      "  warnings.warn(\n"
     ]
    },
    {
     "data": {
      "image/png": "[encoded data removed]",
      "text/plain": [
       "<Figure size 720x288 with 1 Axes>"
      ]
     },
     "metadata": {
      "needs_background": "light"
     },
     "output_type": "display_data"
    }
   ],
   "source": [
    "total_brand = data[\"p_brand\"]\n",
    "print(f\"Số lượng thương hiệu: {len(total_brand)}\")\n",
    "barplot_cac_thuong_hieu_san_pham('p_brand',\"Các thương hiệu của sản phẩm\")"
   ]
  }
 ],
 "metadata": {
  "interpreter": {
   "hash": "1b1ecaee4775a679fda8e84dccd942affe648e7556f06b53476e04ae969ed1cd"
  },
  "kernelspec": {
   "display_name": "Python 3.8.5 32-bit",
   "name": "python3"
  },
  "language_info": {
   "codemirror_mode": {
    "name": "ipython",
    "version": 3
   },
   "file_extension": ".py",
   "mimetype": "text/x-python",
   "name": "python",
   "nbconvert_exporter": "python",
   "pygments_lexer": "ipython3",
   "version": "3.8.5"
  },
  "orig_nbformat": 4
 },
 "nbformat": 4,
 "nbformat_minor": 2
}
