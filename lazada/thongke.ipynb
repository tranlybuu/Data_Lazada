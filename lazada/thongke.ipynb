{
 "cells": [
  {
   "cell_type": "markdown",
   "metadata": {},
   "source": [
    "**Thêm thư viện**"
   ]
  },
  {
   "cell_type": "code",
   "execution_count": 1,
   "metadata": {},
   "outputs": [],
   "source": [
    "import pandas as pd\n",
    "import statistics as sta\n",
    "from scipy import stats\n",
    "import matplotlib.pyplot as plt\n",
    "import statsmodels.api as sm\n",
    "import seaborn as sns"
   ]
  },
  {
   "cell_type": "markdown",
   "metadata": {},
   "source": [
    "**Đọc dữ liệu từ file csv và in ra vài dòng đầu**"
   ]
  },
  {
   "cell_type": "code",
   "execution_count": 2,
   "metadata": {},
   "outputs": [
    {
     "data": {
      "text/html": [
       "<div>\n",
       "<style scoped>\n",
       "    .dataframe tbody tr th:only-of-type {\n",
       "        vertical-align: middle;\n",
       "    }\n",
       "\n",
       "    .dataframe tbody tr th {\n",
       "        vertical-align: top;\n",
       "    }\n",
       "\n",
       "    .dataframe thead th {\n",
       "        text-align: right;\n",
       "    }\n",
       "</style>\n",
       "<table border=\"1\" class=\"dataframe\">\n",
       "  <thead>\n",
       "    <tr style=\"text-align: right;\">\n",
       "      <th></th>\n",
       "      <th>p_cate</th>\n",
       "      <th>p_mall</th>\n",
       "      <th>p_name</th>\n",
       "      <th>p_price</th>\n",
       "      <th>p_rating</th>\n",
       "      <th>s_name</th>\n",
       "      <th>s_rating</th>\n",
       "    </tr>\n",
       "  </thead>\n",
       "  <tbody>\n",
       "    <tr>\n",
       "      <th>0</th>\n",
       "      <td>Điện thoại &amp; Máy tính bảng</td>\n",
       "      <td>Non-Mall</td>\n",
       "      <td>Điện thoại Iphone X 64g - 256g quốc tế mới 98%</td>\n",
       "      <td>4.444.310 ₫</td>\n",
       "      <td>NaN</td>\n",
       "      <td>ShopcongngheHT</td>\n",
       "      <td>NaN</td>\n",
       "    </tr>\n",
       "    <tr>\n",
       "      <th>1</th>\n",
       "      <td>Bếp &amp; Phòng ăn</td>\n",
       "      <td>Non-Mall</td>\n",
       "      <td>Hộp quà bí ẩn</td>\n",
       "      <td>34.500 ₫</td>\n",
       "      <td>NaN</td>\n",
       "      <td>shishang9</td>\n",
       "      <td>NaN</td>\n",
       "    </tr>\n",
       "    <tr>\n",
       "      <th>2</th>\n",
       "      <td>Giày dép &amp; Quần áo nam</td>\n",
       "      <td>Mall</td>\n",
       "      <td>DIRTYCOINS Graffitee T-shirt</td>\n",
       "      <td>350.000 ₫</td>\n",
       "      <td>NaN</td>\n",
       "      <td>Dirty Coins</td>\n",
       "      <td>NaN</td>\n",
       "    </tr>\n",
       "    <tr>\n",
       "      <th>3</th>\n",
       "      <td>Văn phòng phẩm và nghề thủ công</td>\n",
       "      <td>Non-Mall</td>\n",
       "      <td>Hộp quà bí ẩn-Tri ân khách hàng- tặng 1 hộp qu...</td>\n",
       "      <td>9.350 ₫</td>\n",
       "      <td>NaN</td>\n",
       "      <td>Chamy</td>\n",
       "      <td>NaN</td>\n",
       "    </tr>\n",
       "    <tr>\n",
       "      <th>4</th>\n",
       "      <td>Giày dép &amp; Quần áo nam</td>\n",
       "      <td>Non-Mall</td>\n",
       "      <td>[HCM][Voucher 10%] Áo thun Teeworld Saigonese ...</td>\n",
       "      <td>201.000 ₫</td>\n",
       "      <td>NaN</td>\n",
       "      <td>Teeworld Fashion - Thế Giới Áo Thun</td>\n",
       "      <td>NaN</td>\n",
       "    </tr>\n",
       "  </tbody>\n",
       "</table>\n",
       "</div>"
      ],
      "text/plain": [
       "                            p_cate    p_mall  \\\n",
       "0       Điện thoại & Máy tính bảng  Non-Mall   \n",
       "1                   Bếp & Phòng ăn  Non-Mall   \n",
       "2           Giày dép & Quần áo nam      Mall   \n",
       "3  Văn phòng phẩm và nghề thủ công  Non-Mall   \n",
       "4           Giày dép & Quần áo nam  Non-Mall   \n",
       "\n",
       "                                              p_name      p_price  p_rating  \\\n",
       "0     Điện thoại Iphone X 64g - 256g quốc tế mới 98%  4.444.310 ₫       NaN   \n",
       "1                                      Hộp quà bí ẩn     34.500 ₫       NaN   \n",
       "2                       DIRTYCOINS Graffitee T-shirt    350.000 ₫       NaN   \n",
       "3  Hộp quà bí ẩn-Tri ân khách hàng- tặng 1 hộp qu...      9.350 ₫       NaN   \n",
       "4  [HCM][Voucher 10%] Áo thun Teeworld Saigonese ...    201.000 ₫       NaN   \n",
       "\n",
       "                                s_name  s_rating  \n",
       "0                       ShopcongngheHT       NaN  \n",
       "1                            shishang9       NaN  \n",
       "2                          Dirty Coins       NaN  \n",
       "3                                Chamy       NaN  \n",
       "4  Teeworld Fashion - Thế Giới Áo Thun       NaN  "
      ]
     },
     "execution_count": 2,
     "metadata": {},
     "output_type": "execute_result"
    }
   ],
   "source": [
    "csv = \"output.csv\"\n",
    "data = pd.read_csv(csv)\n",
    "data.head(10)"
   ]
  },
  {
   "cell_type": "markdown",
   "metadata": {},
   "source": [
    "**Xử lý và chuyển giá sản phẩm thành dạng số thực**"
   ]
  },
  {
   "cell_type": "code",
   "execution_count": 3,
   "metadata": {},
   "outputs": [
    {
     "data": {
      "text/html": [
       "<div>\n",
       "<style scoped>\n",
       "    .dataframe tbody tr th:only-of-type {\n",
       "        vertical-align: middle;\n",
       "    }\n",
       "\n",
       "    .dataframe tbody tr th {\n",
       "        vertical-align: top;\n",
       "    }\n",
       "\n",
       "    .dataframe thead th {\n",
       "        text-align: right;\n",
       "    }\n",
       "</style>\n",
       "<table border=\"1\" class=\"dataframe\">\n",
       "  <thead>\n",
       "    <tr style=\"text-align: right;\">\n",
       "      <th></th>\n",
       "      <th>p_cate</th>\n",
       "      <th>p_mall</th>\n",
       "      <th>p_name</th>\n",
       "      <th>p_price</th>\n",
       "      <th>p_rating</th>\n",
       "      <th>s_name</th>\n",
       "      <th>s_rating</th>\n",
       "    </tr>\n",
       "  </thead>\n",
       "  <tbody>\n",
       "    <tr>\n",
       "      <th>0</th>\n",
       "      <td>Điện thoại &amp; Máy tính bảng</td>\n",
       "      <td>Non-Mall</td>\n",
       "      <td>Điện thoại Iphone X 64g - 256g quốc tế mới 98%</td>\n",
       "      <td>4444310</td>\n",
       "      <td>NaN</td>\n",
       "      <td>ShopcongngheHT</td>\n",
       "      <td>NaN</td>\n",
       "    </tr>\n",
       "    <tr>\n",
       "      <th>1</th>\n",
       "      <td>Bếp &amp; Phòng ăn</td>\n",
       "      <td>Non-Mall</td>\n",
       "      <td>Hộp quà bí ẩn</td>\n",
       "      <td>34500</td>\n",
       "      <td>NaN</td>\n",
       "      <td>shishang9</td>\n",
       "      <td>NaN</td>\n",
       "    </tr>\n",
       "    <tr>\n",
       "      <th>2</th>\n",
       "      <td>Giày dép &amp; Quần áo nam</td>\n",
       "      <td>Mall</td>\n",
       "      <td>DIRTYCOINS Graffitee T-shirt</td>\n",
       "      <td>350000</td>\n",
       "      <td>NaN</td>\n",
       "      <td>Dirty Coins</td>\n",
       "      <td>NaN</td>\n",
       "    </tr>\n",
       "    <tr>\n",
       "      <th>3</th>\n",
       "      <td>Văn phòng phẩm và nghề thủ công</td>\n",
       "      <td>Non-Mall</td>\n",
       "      <td>Hộp quà bí ẩn-Tri ân khách hàng- tặng 1 hộp qu...</td>\n",
       "      <td>9350</td>\n",
       "      <td>NaN</td>\n",
       "      <td>Chamy</td>\n",
       "      <td>NaN</td>\n",
       "    </tr>\n",
       "    <tr>\n",
       "      <th>4</th>\n",
       "      <td>Giày dép &amp; Quần áo nam</td>\n",
       "      <td>Non-Mall</td>\n",
       "      <td>[HCM][Voucher 10%] Áo thun Teeworld Saigonese ...</td>\n",
       "      <td>201000</td>\n",
       "      <td>NaN</td>\n",
       "      <td>Teeworld Fashion - Thế Giới Áo Thun</td>\n",
       "      <td>NaN</td>\n",
       "    </tr>\n",
       "  </tbody>\n",
       "</table>\n",
       "</div>"
      ],
      "text/plain": [
       "                            p_cate    p_mall  \\\n",
       "0       Điện thoại & Máy tính bảng  Non-Mall   \n",
       "1                   Bếp & Phòng ăn  Non-Mall   \n",
       "2           Giày dép & Quần áo nam      Mall   \n",
       "3  Văn phòng phẩm và nghề thủ công  Non-Mall   \n",
       "4           Giày dép & Quần áo nam  Non-Mall   \n",
       "\n",
       "                                              p_name  p_price  p_rating  \\\n",
       "0     Điện thoại Iphone X 64g - 256g quốc tế mới 98%  4444310       NaN   \n",
       "1                                      Hộp quà bí ẩn    34500       NaN   \n",
       "2                       DIRTYCOINS Graffitee T-shirt   350000       NaN   \n",
       "3  Hộp quà bí ẩn-Tri ân khách hàng- tặng 1 hộp qu...     9350       NaN   \n",
       "4  [HCM][Voucher 10%] Áo thun Teeworld Saigonese ...   201000       NaN   \n",
       "\n",
       "                                s_name  s_rating  \n",
       "0                       ShopcongngheHT       NaN  \n",
       "1                            shishang9       NaN  \n",
       "2                          Dirty Coins       NaN  \n",
       "3                                Chamy       NaN  \n",
       "4  Teeworld Fashion - Thế Giới Áo Thun       NaN  "
      ]
     },
     "execution_count": 3,
     "metadata": {},
     "output_type": "execute_result"
    }
   ],
   "source": [
    "price = data[\"p_price\"]\n",
    "new_price = []\n",
    "for item in price:\n",
    "    item = str(item)\n",
    "    if \".\" in item:\n",
    "        item = item.replace(\".\",\"\") # Xóa dấu chấm trong giá tiền\n",
    "    if item[-1]==\"₫\":   # Xóa kí tự ₫ trong giá tiền\n",
    "        item = item.replace(\"₫\",\"\")\n",
    "    item = item.strip()     # Loại bỏ khoảng trắng trước và sau giá tiền\n",
    "    new_price.append(int(item))   # Chuyển giá tiền về kiểu dữ liệu số nguyên\n",
    "data[\"p_price\"] = new_price\n",
    "data.head()"
   ]
  },
  {
   "cell_type": "markdown",
   "metadata": {},
   "source": [
    "**Hàm tạo bảng thống kê và vẽ Barplot**"
   ]
  },
  {
   "cell_type": "code",
   "execution_count": 4,
   "metadata": {},
   "outputs": [],
   "source": [
    "def stat_table(a,title_plt):\n",
    "    x = data.groupby(a)[a].count()\n",
    "    dt = pd.DataFrame(x)\n",
    "    dt.columns = ['Percent']\n",
    "    percent = []\n",
    "    for i in dt['Percent']:\n",
    "        x = (i/len(data[a]))*100\n",
    "        percent.append(x)\n",
    "    dt['Percent'] = percent\n",
    "    print(dt)\n",
    "    mylabels = dt.index\n",
    "    fig = plt.figure(figsize = (3, 6))\n",
    "    # Barplot\n",
    "    plt.title(title_plt, fontsize = 20, color = 'red')\n",
    "    sns.barplot(percent, mylabels, data = dt, orient = 'h')"
   ]
  },
  {
   "cell_type": "markdown",
   "metadata": {},
   "source": [
    "**Thống kê các danh mục sản phẩm**"
   ]
  },
  {
   "cell_type": "code",
   "execution_count": 5,
   "metadata": {},
   "outputs": [
    {
     "name": "stdout",
     "output_type": "stream",
     "text": [
      "                                 Percent\n",
      "p_cate                                  \n",
      "Bếp & Phòng ăn                      20.0\n",
      "Giày dép & Quần áo nam              40.0\n",
      "Văn phòng phẩm và nghề thủ công     20.0\n",
      "Điện thoại & Máy tính bảng          20.0\n"
     ]
    },
    {
     "name": "stderr",
     "output_type": "stream",
     "text": [
      "C:\\Users\\lybuu\\AppData\\Local\\Programs\\Python\\Python38-32\\lib\\site-packages\\seaborn\\_decorators.py:36: FutureWarning: Pass the following variables as keyword args: x, y. From version 0.12, the only valid positional argument will be `data`, and passing other arguments without an explicit keyword will result in an error or misinterpretation.\n",
      "  warnings.warn(\n"
     ]
    },
    {
     "data": {
      "image/png": "[encoded data removed]",
      "text/plain": [
       "<Figure size 216x432 with 1 Axes>"
      ]
     },
     "metadata": {
      "needs_background": "light"
     },
     "output_type": "display_data"
    }
   ],
   "source": [
    "stat_table(\"p_cate\", \"Danh mục các sản phẩm\")"
   ]
  },
  {
   "cell_type": "markdown",
   "metadata": {},
   "source": [
    "**Thống kê giá sản phẩm**\n",
    "\n",
    "lấy lại từ hàm stat_table nhưng tinh chỉnh lại"
   ]
  },
  {
   "cell_type": "code",
   "execution_count": 6,
   "metadata": {},
   "outputs": [
    {
     "name": "stdout",
     "output_type": "stream",
     "text": [
      "Phần trăm Sản phẩm có giá từ 0 - dưới 10k       20.0\n",
      "Sản phẩm có giá từ 10k - dưới 100k    20.0\n",
      "Sản phẩm có giá từ 100k - dưới 1tr    40.0\n",
      "Sản phẩm có giá từ 1tr - 10tr         20.0\n",
      "Sản phẩm có giá từ trên 10tr           0.0\n",
      "dtype: float64\n"
     ]
    },
    {
     "name": "stderr",
     "output_type": "stream",
     "text": [
      "C:\\Users\\lybuu\\AppData\\Local\\Programs\\Python\\Python38-32\\lib\\site-packages\\seaborn\\_decorators.py:36: FutureWarning: Pass the following variables as keyword args: x, y. From version 0.12, the only valid positional argument will be `data`, and passing other arguments without an explicit keyword will result in an error or misinterpretation.\n",
      "  warnings.warn(\n"
     ]
    },
    {
     "data": {
      "text/plain": [
       "<AxesSubplot:title={'center':'Các khoảng giá tiền của các sản phẩm'}>"
      ]
     },
     "execution_count": 6,
     "metadata": {},
     "output_type": "execute_result"
    },
    {
     "data": {
      "image/png": "[encoded data removed]",
      "text/plain": [
       "<Figure size 288x288 with 1 Axes>"
      ]
     },
     "metadata": {
      "needs_background": "light"
     },
     "output_type": "display_data"
    }
   ],
   "source": [
    "price_cate = data[\"p_price\"]\n",
    "# Phân loại và thống kê giá trị của các sản phẩm\n",
    "list_cate = [\"Sản phẩm có giá từ 0 - dưới 10k\",\"Sản phẩm có giá từ 10k - dưới 100k\",\"Sản phẩm có giá từ 100k - dưới 1tr\",\"Sản phẩm có giá từ 1tr - 10tr\",\"Sản phẩm có giá từ trên 10tr\"]\n",
    "count_list_cate = [0, 0, 0, 0, 0]\n",
    "percent = []\n",
    "for item in price_cate:\n",
    "    if item<10000:\n",
    "        count_list_cate[0] = count_list_cate[0] +1\n",
    "    elif item<100000:\n",
    "        count_list_cate[1] = count_list_cate[1] +1\n",
    "    elif item<1000000:\n",
    "        count_list_cate[2] = count_list_cate[2] +1\n",
    "    elif item<10000000:\n",
    "        count_list_cate[3] = count_list_cate[3] +1\n",
    "    else:\n",
    "        count_list_cate[4] = count_list_cate[4] +1\n",
    "# Tính phần trăm\n",
    "for item in count_list_cate:\n",
    "    item = item/len(price_cate)*100\n",
    "    percent.append(item)\n",
    "\n",
    "# Vẽ barplot\n",
    "price_df = pd.Series(percent, index=list_cate) # Tạo dataframe với 2 cột là tên danh mục và phần trăm các khoảng tiền\n",
    "print(\"Phần trăm\",price_df)\n",
    "mylabels = price_df.index\n",
    "fig = plt.figure(figsize = (4, 4))\n",
    "plt.title('Các khoảng giá tiền của các sản phẩm', fontsize = 20, color = 'red')\n",
    "sns.barplot(price_df, mylabels, orient = 'h')"
   ]
  },
  {
   "cell_type": "code",
   "execution_count": 8,
   "metadata": {},
   "outputs": [
    {
     "name": "stdout",
     "output_type": "stream",
     "text": [
      "          Percent\n",
      "p_mall           \n",
      "Mall         20.0\n",
      "Non-Mall     80.0\n"
     ]
    },
    {
     "name": "stderr",
     "output_type": "stream",
     "text": [
      "C:\\Users\\lybuu\\AppData\\Local\\Programs\\Python\\Python38-32\\lib\\site-packages\\seaborn\\_decorators.py:36: FutureWarning: Pass the following variables as keyword args: x, y. From version 0.12, the only valid positional argument will be `data`, and passing other arguments without an explicit keyword will result in an error or misinterpretation.\n",
      "  warnings.warn(\n"
     ]
    },
    {
     "data": {
      "image/png": "[encoded data removed]",
      "text/plain": [
       "<Figure size 216x432 with 1 Axes>"
      ]
     },
     "metadata": {
      "needs_background": "light"
     },
     "output_type": "display_data"
    }
   ],
   "source": [
    "stat_table(\"p_mall\",\"Sản phẩm chính hãng và không chính hãng\")"
   ]
  }
 ],
 "metadata": {
  "interpreter": {
   "hash": "1b1ecaee4775a679fda8e84dccd942affe648e7556f06b53476e04ae969ed1cd"
  },
  "kernelspec": {
   "display_name": "Python 3.8.5 32-bit",
   "name": "python3"
  },
  "language_info": {
   "codemirror_mode": {
    "name": "ipython",
    "version": 3
   },
   "file_extension": ".py",
   "mimetype": "text/x-python",
   "name": "python",
   "nbconvert_exporter": "python",
   "pygments_lexer": "ipython3",
   "version": "3.8.5"
  },
  "orig_nbformat": 4
 },
 "nbformat": 4,
 "nbformat_minor": 2
}
