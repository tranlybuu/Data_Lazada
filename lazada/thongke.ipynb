{
 "cells": [
  {
   "cell_type": "markdown",
   "metadata": {},
   "source": [
    "# **Xử lý dữ liệu**"
   ]
  },
  {
   "cell_type": "markdown",
   "metadata": {},
   "source": [
    "**Thêm thư viện**"
   ]
  },
  {
   "cell_type": "code",
   "execution_count": 35,
   "metadata": {},
   "outputs": [],
   "source": [
    "import pandas as pd\n",
    "import statistics as sta\n",
    "from scipy import stats\n",
    "import matplotlib.pyplot as plt\n",
    "import statsmodels.api as sm\n",
    "import seaborn as sns"
   ]
  },
  {
   "cell_type": "markdown",
   "metadata": {},
   "source": [
    "**Đọc dữ liệu từ file csv và in ra vài dòng đầu**"
   ]
  },
  {
   "cell_type": "code",
   "execution_count": 36,
   "metadata": {},
   "outputs": [],
   "source": [
    "csv = \"output.csv\"\n",
    "data = pd.read_csv(csv)"
   ]
  },
  {
   "cell_type": "markdown",
   "metadata": {},
   "source": [
    "**Xử lý và chuyển giá sản phẩm thành dạng số thực**"
   ]
  },
  {
   "cell_type": "code",
   "execution_count": 37,
   "metadata": {},
   "outputs": [],
   "source": [
    "price = data[\"p_price\"]\n",
    "new_price = []\n",
    "for item in price:\n",
    "    item = str(item)\n",
    "    if \".\" in item:\n",
    "        item = item.replace(\".\",\"\") # Xóa dấu chấm trong giá tiền\n",
    "    if item[-1]==\"₫\":   # Xóa kí tự ₫ trong giá tiền\n",
    "        item = item.replace(\"₫\",\"\")\n",
    "    item = item.strip()     # Loại bỏ khoảng trắng trước và sau giá tiền\n",
    "    new_price.append(int(item))   # Chuyển giá tiền về kiểu dữ liệu số nguyên\n",
    "data[\"p_price\"] = new_price"
   ]
  },
  {
   "cell_type": "markdown",
   "metadata": {},
   "source": [
    "**Lọc và phân chia các khoảng giá tiền của sản phẩm**"
   ]
  },
  {
   "cell_type": "code",
   "execution_count": 38,
   "metadata": {},
   "outputs": [],
   "source": [
    "price_cate = data[\"p_price\"]\n",
    "# Phân loại và thống kê giá trị của các sản phẩm\n",
    "list_cate = [\"Sản phẩm có giá từ 0 - dưới 10k\",\"Sản phẩm có giá từ 10k - dưới 100k\",\"Sản phẩm có giá từ 100k - dưới 1tr\",\"Sản phẩm có giá từ 1tr - 10tr\",\"Sản phẩm có giá từ trên 10tr\"]\n",
    "count_list_cate = [0, 0, 0, 0, 0]\n",
    "percent = []\n",
    "for item in price_cate:\n",
    "    if item<10000:\n",
    "        count_list_cate[0] = count_list_cate[0] +1\n",
    "    elif item<100000:\n",
    "        count_list_cate[1] = count_list_cate[1] +1\n",
    "    elif item<1000000:\n",
    "        count_list_cate[2] = count_list_cate[2] +1\n",
    "    elif item<10000000:\n",
    "        count_list_cate[3] = count_list_cate[3] +1\n",
    "    else:\n",
    "        count_list_cate[4] = count_list_cate[4] +1\n",
    "# Tính phần trăm\n",
    "for item in count_list_cate:\n",
    "    item = item/len(price_cate)*100\n",
    "    percent.append(round(item))"
   ]
  },
  {
   "cell_type": "markdown",
   "metadata": {},
   "source": [
    "**Hàm tạo bảng thống kê và vẽ Barplot**"
   ]
  },
  {
   "cell_type": "code",
   "execution_count": 39,
   "metadata": {},
   "outputs": [],
   "source": [
    "def stat_table(a,title_plt):\n",
    "    x = data.groupby(a)[a].count()\n",
    "    dt = pd.DataFrame(x)\n",
    "    dt.columns = ['Percent']\n",
    "    percent = []\n",
    "    for i in dt['Percent']:\n",
    "        x = (i/len(data[a]))*100\n",
    "        percent.append(round(x))\n",
    "    dt['Percent'] = percent\n",
    "    print(dt)\n",
    "    mylabels = dt.index\n",
    "    fig = plt.figure(figsize = (3, 6))\n",
    "    # Barplot\n",
    "    plt.title(title_plt, fontsize = 20, color = 'red')\n",
    "    sns.barplot(percent, mylabels, data = dt, orient = 'h')"
   ]
  },
  {
   "cell_type": "markdown",
   "metadata": {},
   "source": [
    "**Hàm vẽ khoảng giá tiền sản phẩm**\n",
    "\n",
    "Lấy lại từ stat_table và được điều chỉnh lại"
   ]
  },
  {
   "cell_type": "code",
   "execution_count": 40,
   "metadata": {},
   "outputs": [],
   "source": [
    "def khoang_gia_tien_san_pham(percent, list_cate):\n",
    "    price_df = pd.Series(percent, index=list_cate) # Tạo dataframe với 2 cột là tên danh mục và phần trăm các khoảng tiền\n",
    "    print(price_df)\n",
    "    mylabels = price_df.index\n",
    "    fig = plt.figure(figsize = (4, 4))\n",
    "    plt.title('Các khoảng giá tiền của các sản phẩm', fontsize = 20, color = 'red')\n",
    "    sns.barplot(price_df, mylabels, orient = 'h')"
   ]
  },
  {
   "cell_type": "markdown",
   "metadata": {},
   "source": [
    "# **Kết quả thống kê**"
   ]
  },
  {
   "cell_type": "markdown",
   "metadata": {},
   "source": [
    "**Tổng quan về file csv**"
   ]
  },
  {
   "cell_type": "code",
   "execution_count": 41,
   "metadata": {},
   "outputs": [
    {
     "data": {
      "text/html": [
       "<div>\n",
       "<style scoped>\n",
       "    .dataframe tbody tr th:only-of-type {\n",
       "        vertical-align: middle;\n",
       "    }\n",
       "\n",
       "    .dataframe tbody tr th {\n",
       "        vertical-align: top;\n",
       "    }\n",
       "\n",
       "    .dataframe thead th {\n",
       "        text-align: right;\n",
       "    }\n",
       "</style>\n",
       "<table border=\"1\" class=\"dataframe\">\n",
       "  <thead>\n",
       "    <tr style=\"text-align: right;\">\n",
       "      <th></th>\n",
       "      <th>p_1star_rating</th>\n",
       "      <th>p_2star_rating</th>\n",
       "      <th>p_3star_rating</th>\n",
       "      <th>p_4star_rating</th>\n",
       "      <th>p_5star_rating</th>\n",
       "      <th>p_cate</th>\n",
       "      <th>p_image</th>\n",
       "      <th>p_mall</th>\n",
       "      <th>p_name</th>\n",
       "      <th>p_number_reviews</th>\n",
       "      <th>p_price</th>\n",
       "      <th>p_rating</th>\n",
       "      <th>s_name</th>\n",
       "      <th>s_rating</th>\n",
       "      <th>s_response_rate</th>\n",
       "      <th>s_ship_ontime</th>\n",
       "    </tr>\n",
       "  </thead>\n",
       "  <tbody>\n",
       "    <tr>\n",
       "      <th>0</th>\n",
       "      <td>0</td>\n",
       "      <td>2</td>\n",
       "      <td>1</td>\n",
       "      <td>6</td>\n",
       "      <td>107</td>\n",
       "      <td>Giày dép &amp; Quần áo nam</td>\n",
       "      <td>//vn-live-05.slatic.net/p/0e4c09315f597b7fe369...</td>\n",
       "      <td>Mall</td>\n",
       "      <td>DIRTYCOINS Graffitee T-shirt</td>\n",
       "      <td>116 đánh giá</td>\n",
       "      <td>350000</td>\n",
       "      <td>4.9</td>\n",
       "      <td>Dirty Coins</td>\n",
       "      <td>97%</td>\n",
       "      <td>100%</td>\n",
       "      <td>100%</td>\n",
       "    </tr>\n",
       "    <tr>\n",
       "      <th>1</th>\n",
       "      <td>0</td>\n",
       "      <td>0</td>\n",
       "      <td>0</td>\n",
       "      <td>0</td>\n",
       "      <td>2</td>\n",
       "      <td>Giày dép &amp; Quần áo nam</td>\n",
       "      <td>//vn-live-05.slatic.net/p/2b6161b40fdae6653483...</td>\n",
       "      <td>Non-Mall</td>\n",
       "      <td>[HCM][Voucher 10%] Áo thun Teeworld Saigonese ...</td>\n",
       "      <td>2 đánh giá</td>\n",
       "      <td>201000</td>\n",
       "      <td>5.0</td>\n",
       "      <td>Teeworld Fashion - Thế Giới Áo Thun</td>\n",
       "      <td>92%</td>\n",
       "      <td>100%</td>\n",
       "      <td>100%</td>\n",
       "    </tr>\n",
       "    <tr>\n",
       "      <th>2</th>\n",
       "      <td>0</td>\n",
       "      <td>0</td>\n",
       "      <td>0</td>\n",
       "      <td>0</td>\n",
       "      <td>5</td>\n",
       "      <td>Điện thoại &amp; Máy tính bảng</td>\n",
       "      <td>//vn-live-05.slatic.net/p/313c4773ce20ffc45c30...</td>\n",
       "      <td>Non-Mall</td>\n",
       "      <td>Điện thoại Iphone X 64g - 256g quốc tế mới 98%</td>\n",
       "      <td>5 đánh giá</td>\n",
       "      <td>4444310</td>\n",
       "      <td>5.0</td>\n",
       "      <td>ShopcongngheHT</td>\n",
       "      <td>88%</td>\n",
       "      <td>97%</td>\n",
       "      <td>100%</td>\n",
       "    </tr>\n",
       "  </tbody>\n",
       "</table>\n",
       "</div>"
      ],
      "text/plain": [
       "   p_1star_rating  p_2star_rating  p_3star_rating  p_4star_rating  \\\n",
       "0               0               2               1               6   \n",
       "1               0               0               0               0   \n",
       "2               0               0               0               0   \n",
       "\n",
       "   p_5star_rating                      p_cate  \\\n",
       "0             107      Giày dép & Quần áo nam   \n",
       "1               2      Giày dép & Quần áo nam   \n",
       "2               5  Điện thoại & Máy tính bảng   \n",
       "\n",
       "                                             p_image    p_mall  \\\n",
       "0  //vn-live-05.slatic.net/p/0e4c09315f597b7fe369...      Mall   \n",
       "1  //vn-live-05.slatic.net/p/2b6161b40fdae6653483...  Non-Mall   \n",
       "2  //vn-live-05.slatic.net/p/313c4773ce20ffc45c30...  Non-Mall   \n",
       "\n",
       "                                              p_name p_number_reviews  \\\n",
       "0                       DIRTYCOINS Graffitee T-shirt     116 đánh giá   \n",
       "1  [HCM][Voucher 10%] Áo thun Teeworld Saigonese ...       2 đánh giá   \n",
       "2     Điện thoại Iphone X 64g - 256g quốc tế mới 98%       5 đánh giá   \n",
       "\n",
       "   p_price  p_rating                               s_name s_rating  \\\n",
       "0   350000       4.9                          Dirty Coins      97%   \n",
       "1   201000       5.0  Teeworld Fashion - Thế Giới Áo Thun      92%   \n",
       "2  4444310       5.0                       ShopcongngheHT      88%   \n",
       "\n",
       "  s_response_rate s_ship_ontime  \n",
       "0            100%          100%  \n",
       "1            100%          100%  \n",
       "2             97%          100%  "
      ]
     },
     "execution_count": 41,
     "metadata": {},
     "output_type": "execute_result"
    }
   ],
   "source": [
    "data.head(3)"
   ]
  },
  {
   "cell_type": "markdown",
   "metadata": {},
   "source": [
    "**Thống kê các danh mục sản phẩm**"
   ]
  },
  {
   "cell_type": "code",
   "execution_count": 42,
   "metadata": {},
   "outputs": [
    {
     "name": "stdout",
     "output_type": "stream",
     "text": [
      "                                 Percent\n",
      "p_cate                                  \n",
      "Bếp & Phòng ăn                        12\n",
      "Electronics Accessories               12\n",
      "Giày dép & Quần áo nam                50\n",
      "Văn phòng phẩm và nghề thủ công       12\n",
      "Điện thoại & Máy tính bảng            12\n"
     ]
    },
    {
     "name": "stderr",
     "output_type": "stream",
     "text": [
      "C:\\Users\\lybuu\\AppData\\Local\\Programs\\Python\\Python38-32\\lib\\site-packages\\seaborn\\_decorators.py:36: FutureWarning: Pass the following variables as keyword args: x, y. From version 0.12, the only valid positional argument will be `data`, and passing other arguments without an explicit keyword will result in an error or misinterpretation.\n",
      "  warnings.warn(\n"
     ]
    },
    {
     "data": {
      "image/png": "[encoded data removed]",
      "text/plain": [
       "<Figure size 216x432 with 1 Axes>"
      ]
     },
     "metadata": {
      "needs_background": "light"
     },
     "output_type": "display_data"
    }
   ],
   "source": [
    "stat_table(\"p_cate\", \"Danh mục các sản phẩm\")"
   ]
  },
  {
   "cell_type": "markdown",
   "metadata": {},
   "source": [
    "**Thống kê giá sản phẩm**"
   ]
  },
  {
   "cell_type": "code",
   "execution_count": 43,
   "metadata": {},
   "outputs": [
    {
     "name": "stdout",
     "output_type": "stream",
     "text": [
      "Sản phẩm có giá từ 0 - dưới 10k       12\n",
      "Sản phẩm có giá từ 10k - dưới 100k    12\n",
      "Sản phẩm có giá từ 100k - dưới 1tr    50\n",
      "Sản phẩm có giá từ 1tr - 10tr         12\n",
      "Sản phẩm có giá từ trên 10tr          12\n",
      "dtype: int64\n"
     ]
    },
    {
     "name": "stderr",
     "output_type": "stream",
     "text": [
      "C:\\Users\\lybuu\\AppData\\Local\\Programs\\Python\\Python38-32\\lib\\site-packages\\seaborn\\_decorators.py:36: FutureWarning: Pass the following variables as keyword args: x, y. From version 0.12, the only valid positional argument will be `data`, and passing other arguments without an explicit keyword will result in an error or misinterpretation.\n",
      "  warnings.warn(\n"
     ]
    },
    {
     "data": {
      "image/png": "[encoded data removed]",
      "text/plain": [
       "<Figure size 288x288 with 1 Axes>"
      ]
     },
     "metadata": {
      "needs_background": "light"
     },
     "output_type": "display_data"
    }
   ],
   "source": [
    "khoang_gia_tien_san_pham(percent, list_cate)"
   ]
  },
  {
   "cell_type": "code",
   "execution_count": 44,
   "metadata": {},
   "outputs": [
    {
     "name": "stdout",
     "output_type": "stream",
     "text": [
      "          Percent\n",
      "p_mall           \n",
      "Mall           38\n",
      "Non-Mall       62\n"
     ]
    },
    {
     "name": "stderr",
     "output_type": "stream",
     "text": [
      "C:\\Users\\lybuu\\AppData\\Local\\Programs\\Python\\Python38-32\\lib\\site-packages\\seaborn\\_decorators.py:36: FutureWarning: Pass the following variables as keyword args: x, y. From version 0.12, the only valid positional argument will be `data`, and passing other arguments without an explicit keyword will result in an error or misinterpretation.\n",
      "  warnings.warn(\n"
     ]
    },
    {
     "data": {
      "image/png": "[encoded data removed]",
      "text/plain": [
       "<Figure size 216x432 with 1 Axes>"
      ]
     },
     "metadata": {
      "needs_background": "light"
     },
     "output_type": "display_data"
    }
   ],
   "source": [
    "stat_table(\"p_mall\",\"Sản phẩm chính hãng và không chính hãng\")"
   ]
  }
 ],
 "metadata": {
  "interpreter": {
   "hash": "1b1ecaee4775a679fda8e84dccd942affe648e7556f06b53476e04ae969ed1cd"
  },
  "kernelspec": {
   "display_name": "Python 3.8.5 32-bit",
   "name": "python3"
  },
  "language_info": {
   "codemirror_mode": {
    "name": "ipython",
    "version": 3
   },
   "file_extension": ".py",
   "mimetype": "text/x-python",
   "name": "python",
   "nbconvert_exporter": "python",
   "pygments_lexer": "ipython3",
   "version": "3.8.5"
  },
  "orig_nbformat": 4
 },
 "nbformat": 4,
 "nbformat_minor": 2
}
